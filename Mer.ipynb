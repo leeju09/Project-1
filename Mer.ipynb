{
 "cells": [
  {
   "cell_type": "code",
   "execution_count": 2,
   "id": "bbc64f9a-d681-4622-87b5-1484eb5bc7d3",
   "metadata": {},
   "outputs": [],
   "source": [
    "import pandas as pd\n",
    "from pathlib import Path\n",
    "import matplotlib.pyplot as plt\n",
    "import numpy as np\n",
    "import scipy.stats as stats"
   ]
  },
  {
   "cell_type": "code",
   "execution_count": 3,
   "id": "b4d9a6a5-d9a1-4952-8c41-f81ba5c5eb09",
   "metadata": {},
   "outputs": [
    {
     "data": {
      "text/html": [
       "<div>\n",
       "<style scoped>\n",
       "    .dataframe tbody tr th:only-of-type {\n",
       "        vertical-align: middle;\n",
       "    }\n",
       "\n",
       "    .dataframe tbody tr th {\n",
       "        vertical-align: top;\n",
       "    }\n",
       "\n",
       "    .dataframe thead th {\n",
       "        text-align: right;\n",
       "    }\n",
       "</style>\n",
       "<table border=\"1\" class=\"dataframe\">\n",
       "  <thead>\n",
       "    <tr style=\"text-align: right;\">\n",
       "      <th></th>\n",
       "      <th>Year</th>\n",
       "      <th>State</th>\n",
       "      <th>County</th>\n",
       "      <th>Class</th>\n",
       "      <th>Topic</th>\n",
       "      <th>Death_Rate(per M)</th>\n",
       "      <th>Data_Value_Type</th>\n",
       "      <th>Gender</th>\n",
       "      <th>Ethnicity</th>\n",
       "      <th>Latitude</th>\n",
       "      <th>Longitude</th>\n",
       "    </tr>\n",
       "  </thead>\n",
       "  <tbody>\n",
       "    <tr>\n",
       "      <th>0</th>\n",
       "      <td>2020</td>\n",
       "      <td>AK</td>\n",
       "      <td>Kenai Peninsula</td>\n",
       "      <td>Cardiovascular Diseases</td>\n",
       "      <td>Heart Disease Mortality</td>\n",
       "      <td>165.1</td>\n",
       "      <td>Age-adjusted, Spatially Smoothed, 3-year Avera...</td>\n",
       "      <td>Male</td>\n",
       "      <td>Hispanic</td>\n",
       "      <td>60.193263</td>\n",
       "      <td>-150.280744</td>\n",
       "    </tr>\n",
       "    <tr>\n",
       "      <th>1</th>\n",
       "      <td>2020</td>\n",
       "      <td>AL</td>\n",
       "      <td>Walker County</td>\n",
       "      <td>Cardiovascular Diseases</td>\n",
       "      <td>Heart Disease Mortality</td>\n",
       "      <td>109.0</td>\n",
       "      <td>Age-adjusted, Spatially Smoothed, 3-year Avera...</td>\n",
       "      <td>Overall</td>\n",
       "      <td>Hispanic</td>\n",
       "      <td>33.810226</td>\n",
       "      <td>-87.297070</td>\n",
       "    </tr>\n",
       "    <tr>\n",
       "      <th>2</th>\n",
       "      <td>2020</td>\n",
       "      <td>AL</td>\n",
       "      <td>St. Clair County</td>\n",
       "      <td>Cardiovascular Diseases</td>\n",
       "      <td>Heart Disease Mortality</td>\n",
       "      <td>90.0</td>\n",
       "      <td>Age-adjusted, Spatially Smoothed, 3-year Avera...</td>\n",
       "      <td>Overall</td>\n",
       "      <td>Asian</td>\n",
       "      <td>33.716065</td>\n",
       "      <td>-86.314960</td>\n",
       "    </tr>\n",
       "    <tr>\n",
       "      <th>3</th>\n",
       "      <td>2020</td>\n",
       "      <td>FL</td>\n",
       "      <td>Polk County</td>\n",
       "      <td>Cardiovascular Diseases</td>\n",
       "      <td>Heart Disease Mortality</td>\n",
       "      <td>180.2</td>\n",
       "      <td>Age-adjusted, Spatially Smoothed, 3-year Avera...</td>\n",
       "      <td>Female</td>\n",
       "      <td>Hispanic</td>\n",
       "      <td>27.946050</td>\n",
       "      <td>-81.699391</td>\n",
       "    </tr>\n",
       "    <tr>\n",
       "      <th>4</th>\n",
       "      <td>2020</td>\n",
       "      <td>GA</td>\n",
       "      <td>Forsyth County</td>\n",
       "      <td>Cardiovascular Diseases</td>\n",
       "      <td>Heart Disease Mortality</td>\n",
       "      <td>133.5</td>\n",
       "      <td>Age-adjusted, Spatially Smoothed, 3-year Avera...</td>\n",
       "      <td>Overall</td>\n",
       "      <td>Asian</td>\n",
       "      <td>34.228391</td>\n",
       "      <td>-84.124685</td>\n",
       "    </tr>\n",
       "  </tbody>\n",
       "</table>\n",
       "</div>"
      ],
      "text/plain": [
       "   Year State            County                    Class  \\\n",
       "0  2020    AK   Kenai Peninsula  Cardiovascular Diseases   \n",
       "1  2020    AL     Walker County  Cardiovascular Diseases   \n",
       "2  2020    AL  St. Clair County  Cardiovascular Diseases   \n",
       "3  2020    FL       Polk County  Cardiovascular Diseases   \n",
       "4  2020    GA    Forsyth County  Cardiovascular Diseases   \n",
       "\n",
       "                     Topic  Death_Rate(per M)  \\\n",
       "0  Heart Disease Mortality              165.1   \n",
       "1  Heart Disease Mortality              109.0   \n",
       "2  Heart Disease Mortality               90.0   \n",
       "3  Heart Disease Mortality              180.2   \n",
       "4  Heart Disease Mortality              133.5   \n",
       "\n",
       "                                     Data_Value_Type   Gender Ethnicity  \\\n",
       "0  Age-adjusted, Spatially Smoothed, 3-year Avera...     Male  Hispanic   \n",
       "1  Age-adjusted, Spatially Smoothed, 3-year Avera...  Overall  Hispanic   \n",
       "2  Age-adjusted, Spatially Smoothed, 3-year Avera...  Overall     Asian   \n",
       "3  Age-adjusted, Spatially Smoothed, 3-year Avera...   Female  Hispanic   \n",
       "4  Age-adjusted, Spatially Smoothed, 3-year Avera...  Overall     Asian   \n",
       "\n",
       "    Latitude   Longitude  \n",
       "0  60.193263 -150.280744  \n",
       "1  33.810226  -87.297070  \n",
       "2  33.716065  -86.314960  \n",
       "3  27.946050  -81.699391  \n",
       "4  34.228391  -84.124685  "
      ]
     },
     "execution_count": 3,
     "metadata": {},
     "output_type": "execute_result"
    }
   ],
   "source": [
    "# Create a path to the csv and read it into a Pandas DataFrame\n",
    "csv_path = Path(\"cleaned_data.csv\")\n",
    "cleaned_df = pd.read_csv(csv_path)\n",
    "\n",
    "cleaned_df.head()"
   ]
  },
  {
   "cell_type": "code",
   "execution_count": 4,
   "id": "b593d118-b3a8-4137-b1c9-8b144c24e688",
   "metadata": {},
   "outputs": [
    {
     "data": {
      "text/html": [
       "<div>\n",
       "<style scoped>\n",
       "    .dataframe tbody tr th:only-of-type {\n",
       "        vertical-align: middle;\n",
       "    }\n",
       "\n",
       "    .dataframe tbody tr th {\n",
       "        vertical-align: top;\n",
       "    }\n",
       "\n",
       "    .dataframe thead th {\n",
       "        text-align: right;\n",
       "    }\n",
       "</style>\n",
       "<table border=\"1\" class=\"dataframe\">\n",
       "  <thead>\n",
       "    <tr style=\"text-align: right;\">\n",
       "      <th></th>\n",
       "      <th>Year</th>\n",
       "      <th>State</th>\n",
       "      <th>County</th>\n",
       "      <th>Class</th>\n",
       "      <th>Topic</th>\n",
       "      <th>Death_Rate(per M)</th>\n",
       "      <th>Data_Value_Type</th>\n",
       "      <th>Gender</th>\n",
       "      <th>Ethnicity</th>\n",
       "      <th>Latitude</th>\n",
       "      <th>Longitude</th>\n",
       "    </tr>\n",
       "  </thead>\n",
       "  <tbody>\n",
       "    <tr>\n",
       "      <th>0</th>\n",
       "      <td>2020</td>\n",
       "      <td>AK</td>\n",
       "      <td>Kenai Peninsula</td>\n",
       "      <td>Cardiovascular Diseases</td>\n",
       "      <td>Heart Disease Mortality</td>\n",
       "      <td>165.1</td>\n",
       "      <td>Age-adjusted, Spatially Smoothed, 3-year Avera...</td>\n",
       "      <td>Male</td>\n",
       "      <td>Hispanic</td>\n",
       "      <td>60.193263</td>\n",
       "      <td>-150.280744</td>\n",
       "    </tr>\n",
       "    <tr>\n",
       "      <th>3</th>\n",
       "      <td>2020</td>\n",
       "      <td>FL</td>\n",
       "      <td>Polk County</td>\n",
       "      <td>Cardiovascular Diseases</td>\n",
       "      <td>Heart Disease Mortality</td>\n",
       "      <td>180.2</td>\n",
       "      <td>Age-adjusted, Spatially Smoothed, 3-year Avera...</td>\n",
       "      <td>Female</td>\n",
       "      <td>Hispanic</td>\n",
       "      <td>27.946050</td>\n",
       "      <td>-81.699391</td>\n",
       "    </tr>\n",
       "    <tr>\n",
       "      <th>5</th>\n",
       "      <td>2020</td>\n",
       "      <td>GA</td>\n",
       "      <td>DeKalb County</td>\n",
       "      <td>Cardiovascular Diseases</td>\n",
       "      <td>Heart Disease Mortality</td>\n",
       "      <td>368.4</td>\n",
       "      <td>Age-adjusted, Spatially Smoothed, 3-year Avera...</td>\n",
       "      <td>Male</td>\n",
       "      <td>More than one race</td>\n",
       "      <td>33.772054</td>\n",
       "      <td>-84.220678</td>\n",
       "    </tr>\n",
       "    <tr>\n",
       "      <th>6</th>\n",
       "      <td>2020</td>\n",
       "      <td>IL</td>\n",
       "      <td>McHenry County</td>\n",
       "      <td>Cardiovascular Diseases</td>\n",
       "      <td>Heart Disease Mortality</td>\n",
       "      <td>217.4</td>\n",
       "      <td>Age-adjusted, Spatially Smoothed, 3-year Avera...</td>\n",
       "      <td>Male</td>\n",
       "      <td>Hispanic</td>\n",
       "      <td>42.323803</td>\n",
       "      <td>-88.453961</td>\n",
       "    </tr>\n",
       "    <tr>\n",
       "      <th>7</th>\n",
       "      <td>2020</td>\n",
       "      <td>IL</td>\n",
       "      <td>DuPage County</td>\n",
       "      <td>Cardiovascular Diseases</td>\n",
       "      <td>Heart Disease Mortality</td>\n",
       "      <td>149.0</td>\n",
       "      <td>Age-adjusted, Spatially Smoothed, 3-year Avera...</td>\n",
       "      <td>Male</td>\n",
       "      <td>More than one race</td>\n",
       "      <td>41.855678</td>\n",
       "      <td>-88.092181</td>\n",
       "    </tr>\n",
       "  </tbody>\n",
       "</table>\n",
       "</div>"
      ],
      "text/plain": [
       "   Year State           County                    Class  \\\n",
       "0  2020    AK  Kenai Peninsula  Cardiovascular Diseases   \n",
       "3  2020    FL      Polk County  Cardiovascular Diseases   \n",
       "5  2020    GA    DeKalb County  Cardiovascular Diseases   \n",
       "6  2020    IL   McHenry County  Cardiovascular Diseases   \n",
       "7  2020    IL    DuPage County  Cardiovascular Diseases   \n",
       "\n",
       "                     Topic  Death_Rate(per M)  \\\n",
       "0  Heart Disease Mortality              165.1   \n",
       "3  Heart Disease Mortality              180.2   \n",
       "5  Heart Disease Mortality              368.4   \n",
       "6  Heart Disease Mortality              217.4   \n",
       "7  Heart Disease Mortality              149.0   \n",
       "\n",
       "                                     Data_Value_Type  Gender  \\\n",
       "0  Age-adjusted, Spatially Smoothed, 3-year Avera...    Male   \n",
       "3  Age-adjusted, Spatially Smoothed, 3-year Avera...  Female   \n",
       "5  Age-adjusted, Spatially Smoothed, 3-year Avera...    Male   \n",
       "6  Age-adjusted, Spatially Smoothed, 3-year Avera...    Male   \n",
       "7  Age-adjusted, Spatially Smoothed, 3-year Avera...    Male   \n",
       "\n",
       "            Ethnicity   Latitude   Longitude  \n",
       "0            Hispanic  60.193263 -150.280744  \n",
       "3            Hispanic  27.946050  -81.699391  \n",
       "5  More than one race  33.772054  -84.220678  \n",
       "6            Hispanic  42.323803  -88.453961  \n",
       "7  More than one race  41.855678  -88.092181  "
      ]
     },
     "execution_count": 4,
     "metadata": {},
     "output_type": "execute_result"
    }
   ],
   "source": [
    "gender_df = pd.DataFrame(cleaned_df.loc[(cleaned_df[\"Gender\"])!= \"Overall\"])\n",
    "gender_df.head()"
   ]
  },
  {
   "cell_type": "code",
   "execution_count": 5,
   "id": "56af2909-35e3-4801-81b9-f3231f68648f",
   "metadata": {},
   "outputs": [],
   "source": [
    "states = [\"AK\", \"AL\", \"AR\", \"AZ\", \"CA\", \"CO\", \"CT\", \"DE\", \"FL\", \"GA\", \"HI\", \"IA\",\n",
    "    \"ID\", \"IL\", \"IN\", \"KS\", \"KY\", \"LA\", \"MA\", \"MD\", \"ME\", \"MI\", \"MN\", \"MO\",\n",
    "    \"MS\", \"MT\", \"NC\", \"ND\", \"NE\", \"NH\", \"NJ\", \"NM\", \"NV\", \"NY\", \"OH\", \"OK\",\n",
    "    \"OR\", \"PA\", \"RI\", \"SC\", \"SD\", \"TN\", \"TX\", \"UT\", \"VA\", \"VT\", \"WA\", \"WI\",\n",
    "    \"WV\", \"WY\", \"DC\"]\n",
    "\n",
    "state_west = [\"CA\", \"OR\", \"WA\", \"NV\", \"ID\", \"UT\", \"CO\", \"WY\", \"MT\"]\n",
    "state_midwest = [\"ND\", \"SD\", \"NE\", \"KS\", \"MN\", \"IA\", \"MO\", \"WI\", \"IL\", \"IN\", \"MI\", \"OH\"]\n",
    "state_southwest = [\"AZ\", \"NM\", \"TX\", \"OK\"]\n",
    "state_southeast = [\"AR\", \"LA\", \"MS\", \"TN\", \"AL\", \"KY\", \"GA\", \"WV\", \"VA\", \"NC\", \"SC\", \"FL\", \"MD\", \"DE\"]\n",
    "state_northeast = [\"CT\", \"DC\", \"HI\", \"ME\", \"MA\", \"NH\", \"NJ\", \"NY\", \"PA\", \"RI\", \"VT\"]\n",
    "state_noncontig = [\"HI\", \"AK\"]"
   ]
  },
  {
   "cell_type": "code",
   "execution_count": 6,
   "id": "74264457-8d7a-4eb2-96bf-798bf37accf1",
   "metadata": {},
   "outputs": [],
   "source": [
    "#for state in states:"
   ]
  },
  {
   "cell_type": "code",
   "execution_count": 7,
   "id": "3d627e55-1a3a-45d8-aaaa-20095244c555",
   "metadata": {},
   "outputs": [
    {
     "data": {
      "text/html": [
       "<div>\n",
       "<style scoped>\n",
       "    .dataframe tbody tr th:only-of-type {\n",
       "        vertical-align: middle;\n",
       "    }\n",
       "\n",
       "    .dataframe tbody tr th {\n",
       "        vertical-align: top;\n",
       "    }\n",
       "\n",
       "    .dataframe thead th {\n",
       "        text-align: right;\n",
       "    }\n",
       "</style>\n",
       "<table border=\"1\" class=\"dataframe\">\n",
       "  <thead>\n",
       "    <tr style=\"text-align: right;\">\n",
       "      <th></th>\n",
       "      <th>Mean</th>\n",
       "    </tr>\n",
       "    <tr>\n",
       "      <th>Gender</th>\n",
       "      <th></th>\n",
       "    </tr>\n",
       "  </thead>\n",
       "  <tbody>\n",
       "    <tr>\n",
       "      <th>Female</th>\n",
       "      <td>274.953650</td>\n",
       "    </tr>\n",
       "    <tr>\n",
       "      <th>Male</th>\n",
       "      <td>443.921232</td>\n",
       "    </tr>\n",
       "  </tbody>\n",
       "</table>\n",
       "</div>"
      ],
      "text/plain": [
       "              Mean\n",
       "Gender            \n",
       "Female  274.953650\n",
       "Male    443.921232"
      ]
     },
     "execution_count": 7,
     "metadata": {},
     "output_type": "execute_result"
    }
   ],
   "source": [
    "#find gender mean\n",
    "mean = gender_df['Death_Rate(per M)'].groupby(gender_df['Gender']).mean()\n",
    "summary_stat = pd.DataFrame({ \"Mean\":mean,  }) \n",
    "summary_stat"
   ]
  },
  {
   "cell_type": "code",
   "execution_count": 19,
   "id": "fe17acf4-b417-4ed7-9799-0b1100a47b37",
   "metadata": {},
   "outputs": [
    {
     "data": {
      "image/png": "[encoded data removed]",
      "text/plain": [
       "<Figure size 640x480 with 1 Axes>"
      ]
     },
     "metadata": {},
     "output_type": "display_data"
    }
   ],
   "source": [
    "#Plot Gender\n",
    "x_axis = mean.index.values\n",
    "y_axis = mean.values\n",
    "\n",
    "plt.bar(x_axis, y_axis, color='b', alpha=0.8, align='center')\n",
    "\n",
    "plt.title(\"Heart Disease Mortality by Gender\")\n",
    "plt.xlabel(\"Gender\")\n",
    "plt.ylabel(\"Mean per Gender\")\n",
    "plt.xticks(rotation=\"horizontal\")\n",
    "plt.savefig('Outputs/gender.png')\n",
    "plt.show()"
   ]
  },
  {
   "cell_type": "code",
   "execution_count": 9,
   "id": "b6ef42ed-68aa-403e-8dff-91611badd95e",
   "metadata": {},
   "outputs": [
    {
     "data": {
      "text/html": [
       "<div>\n",
       "<style scoped>\n",
       "    .dataframe tbody tr th:only-of-type {\n",
       "        vertical-align: middle;\n",
       "    }\n",
       "\n",
       "    .dataframe tbody tr th {\n",
       "        vertical-align: top;\n",
       "    }\n",
       "\n",
       "    .dataframe thead th {\n",
       "        text-align: right;\n",
       "    }\n",
       "</style>\n",
       "<table border=\"1\" class=\"dataframe\">\n",
       "  <thead>\n",
       "    <tr style=\"text-align: right;\">\n",
       "      <th></th>\n",
       "      <th>Year</th>\n",
       "      <th>State</th>\n",
       "      <th>County</th>\n",
       "      <th>Class</th>\n",
       "      <th>Topic</th>\n",
       "      <th>Death_Rate(per M)</th>\n",
       "      <th>Data_Value_Type</th>\n",
       "      <th>Gender</th>\n",
       "      <th>Ethnicity</th>\n",
       "      <th>Latitude</th>\n",
       "      <th>Longitude</th>\n",
       "    </tr>\n",
       "  </thead>\n",
       "  <tbody>\n",
       "    <tr>\n",
       "      <th>11</th>\n",
       "      <td>2020</td>\n",
       "      <td>MN</td>\n",
       "      <td>Goodhue County</td>\n",
       "      <td>Cardiovascular Diseases</td>\n",
       "      <td>Heart Disease Mortality</td>\n",
       "      <td>238.2</td>\n",
       "      <td>Age-adjusted, Spatially Smoothed, 3-year Avera...</td>\n",
       "      <td>Male</td>\n",
       "      <td>Black</td>\n",
       "      <td>44.410900</td>\n",
       "      <td>-92.723112</td>\n",
       "    </tr>\n",
       "    <tr>\n",
       "      <th>12</th>\n",
       "      <td>2020</td>\n",
       "      <td>MN</td>\n",
       "      <td>Ramsey County</td>\n",
       "      <td>Cardiovascular Diseases</td>\n",
       "      <td>Heart Disease Mortality</td>\n",
       "      <td>687.7</td>\n",
       "      <td>Age-adjusted, Spatially Smoothed, 3-year Avera...</td>\n",
       "      <td>Male</td>\n",
       "      <td>More than one race</td>\n",
       "      <td>45.023030</td>\n",
       "      <td>-93.099403</td>\n",
       "    </tr>\n",
       "    <tr>\n",
       "      <th>8047</th>\n",
       "      <td>2020</td>\n",
       "      <td>MN</td>\n",
       "      <td>Dodge County</td>\n",
       "      <td>Cardiovascular Diseases</td>\n",
       "      <td>Heart Disease Mortality</td>\n",
       "      <td>355.0</td>\n",
       "      <td>Age-adjusted, Spatially Smoothed, 3-year Avera...</td>\n",
       "      <td>Male</td>\n",
       "      <td>White</td>\n",
       "      <td>44.021518</td>\n",
       "      <td>-92.866343</td>\n",
       "    </tr>\n",
       "    <tr>\n",
       "      <th>8055</th>\n",
       "      <td>2020</td>\n",
       "      <td>MN</td>\n",
       "      <td>Yellow Medicine County</td>\n",
       "      <td>Cardiovascular Diseases</td>\n",
       "      <td>Heart Disease Mortality</td>\n",
       "      <td>197.9</td>\n",
       "      <td>Age-adjusted, Spatially Smoothed, 3-year Avera...</td>\n",
       "      <td>Female</td>\n",
       "      <td>Overall</td>\n",
       "      <td>44.715905</td>\n",
       "      <td>-95.871339</td>\n",
       "    </tr>\n",
       "    <tr>\n",
       "      <th>8061</th>\n",
       "      <td>2020</td>\n",
       "      <td>MN</td>\n",
       "      <td>Mower County</td>\n",
       "      <td>Cardiovascular Diseases</td>\n",
       "      <td>Heart Disease Mortality</td>\n",
       "      <td>384.7</td>\n",
       "      <td>Age-adjusted, Spatially Smoothed, 3-year Avera...</td>\n",
       "      <td>Male</td>\n",
       "      <td>Overall</td>\n",
       "      <td>43.670765</td>\n",
       "      <td>-92.755885</td>\n",
       "    </tr>\n",
       "  </tbody>\n",
       "</table>\n",
       "</div>"
      ],
      "text/plain": [
       "      Year State                  County                    Class  \\\n",
       "11    2020    MN          Goodhue County  Cardiovascular Diseases   \n",
       "12    2020    MN           Ramsey County  Cardiovascular Diseases   \n",
       "8047  2020    MN            Dodge County  Cardiovascular Diseases   \n",
       "8055  2020    MN  Yellow Medicine County  Cardiovascular Diseases   \n",
       "8061  2020    MN            Mower County  Cardiovascular Diseases   \n",
       "\n",
       "                        Topic  Death_Rate(per M)  \\\n",
       "11    Heart Disease Mortality              238.2   \n",
       "12    Heart Disease Mortality              687.7   \n",
       "8047  Heart Disease Mortality              355.0   \n",
       "8055  Heart Disease Mortality              197.9   \n",
       "8061  Heart Disease Mortality              384.7   \n",
       "\n",
       "                                        Data_Value_Type  Gender  \\\n",
       "11    Age-adjusted, Spatially Smoothed, 3-year Avera...    Male   \n",
       "12    Age-adjusted, Spatially Smoothed, 3-year Avera...    Male   \n",
       "8047  Age-adjusted, Spatially Smoothed, 3-year Avera...    Male   \n",
       "8055  Age-adjusted, Spatially Smoothed, 3-year Avera...  Female   \n",
       "8061  Age-adjusted, Spatially Smoothed, 3-year Avera...    Male   \n",
       "\n",
       "               Ethnicity   Latitude  Longitude  \n",
       "11                 Black  44.410900 -92.723112  \n",
       "12    More than one race  45.023030 -93.099403  \n",
       "8047               White  44.021518 -92.866343  \n",
       "8055             Overall  44.715905 -95.871339  \n",
       "8061             Overall  43.670765 -92.755885  "
      ]
     },
     "execution_count": 9,
     "metadata": {},
     "output_type": "execute_result"
    }
   ],
   "source": [
    "#Minnesota Data Only\n",
    "MN_df = pd.DataFrame(gender_df.loc[(gender_df[\"State\"])== \"MN\"])\n",
    "MN_df.head()"
   ]
  },
  {
   "cell_type": "code",
   "execution_count": 10,
   "id": "b2af09cb-7ab4-4a29-9c1e-d1d363710b8c",
   "metadata": {},
   "outputs": [
    {
     "data": {
      "text/html": [
       "<div>\n",
       "<style scoped>\n",
       "    .dataframe tbody tr th:only-of-type {\n",
       "        vertical-align: middle;\n",
       "    }\n",
       "\n",
       "    .dataframe tbody tr th {\n",
       "        vertical-align: top;\n",
       "    }\n",
       "\n",
       "    .dataframe thead th {\n",
       "        text-align: right;\n",
       "    }\n",
       "</style>\n",
       "<table border=\"1\" class=\"dataframe\">\n",
       "  <thead>\n",
       "    <tr style=\"text-align: right;\">\n",
       "      <th></th>\n",
       "      <th>Mean</th>\n",
       "    </tr>\n",
       "    <tr>\n",
       "      <th>Gender</th>\n",
       "      <th></th>\n",
       "    </tr>\n",
       "  </thead>\n",
       "  <tbody>\n",
       "    <tr>\n",
       "      <th>Female</th>\n",
       "      <td>194.596759</td>\n",
       "    </tr>\n",
       "    <tr>\n",
       "      <th>Male</th>\n",
       "      <td>331.185169</td>\n",
       "    </tr>\n",
       "  </tbody>\n",
       "</table>\n",
       "</div>"
      ],
      "text/plain": [
       "              Mean\n",
       "Gender            \n",
       "Female  194.596759\n",
       "Male    331.185169"
      ]
     },
     "execution_count": 10,
     "metadata": {},
     "output_type": "execute_result"
    }
   ],
   "source": [
    "#Find Gender Mean for MN\n",
    "MNmean = MN_df['Death_Rate(per M)'].groupby(MN_df['Gender']).mean()\n",
    "state_sum_stat = pd.DataFrame({ \"Mean\": MNmean }) \n",
    "state_sum_stat"
   ]
  },
  {
   "cell_type": "code",
   "execution_count": 20,
   "id": "7d6776d3-6045-4d35-90eb-fa01e6670521",
   "metadata": {},
   "outputs": [
    {
     "data": {
      "image/png": "[encoded data removed]",
      "text/plain": [
       "<Figure size 640x480 with 1 Axes>"
      ]
     },
     "metadata": {},
     "output_type": "display_data"
    }
   ],
   "source": [
    "#Plot MN Gender data\n",
    "x_axis = MNmean.index.values\n",
    "y_axis = MNmean.values\n",
    "\n",
    "plt.bar(x_axis, y_axis, color='g', alpha=0.8, align='center')\n",
    "\n",
    "plt.title(\"Heart Disease Mortality by Gender in Minnesota\")\n",
    "plt.xlabel(\"Gender\")\n",
    "plt.ylabel(\"Mean per Gender\")\n",
    "plt.xticks(rotation=\"horizontal\")\n",
    "plt.savefig('Outputs/MNgender.png')\n",
    "plt.show()"
   ]
  },
  {
   "cell_type": "code",
   "execution_count": 12,
   "id": "e96559d8-fdde-44c4-aeb9-801d134f4528",
   "metadata": {},
   "outputs": [
    {
     "data": {
      "text/plain": [
       "7671290.9"
      ]
     },
     "execution_count": 12,
     "metadata": {},
     "output_type": "execute_result"
    }
   ],
   "source": [
    "#gender total population\n",
    "total = gender_df['Death_Rate(per M)'].sum()\n",
    "total"
   ]
  },
  {
   "cell_type": "code",
   "execution_count": 13,
   "id": "f9607d1a-0959-4ce5-97ff-1c902493a740",
   "metadata": {},
   "outputs": [
    {
     "data": {
      "text/plain": [
       "3835645.45"
      ]
     },
     "execution_count": 13,
     "metadata": {},
     "output_type": "execute_result"
    }
   ],
   "source": [
    "expected_total = total/2\n",
    "expected_total"
   ]
  },
  {
   "cell_type": "code",
   "execution_count": 14,
   "id": "e4be5b59-a90f-48e5-8e07-7a5dbd2a2b62",
   "metadata": {},
   "outputs": [
    {
     "data": {
      "text/html": [
       "<div>\n",
       "<style scoped>\n",
       "    .dataframe tbody tr th:only-of-type {\n",
       "        vertical-align: middle;\n",
       "    }\n",
       "\n",
       "    .dataframe tbody tr th {\n",
       "        vertical-align: top;\n",
       "    }\n",
       "\n",
       "    .dataframe thead th {\n",
       "        text-align: right;\n",
       "    }\n",
       "</style>\n",
       "<table border=\"1\" class=\"dataframe\">\n",
       "  <thead>\n",
       "    <tr style=\"text-align: right;\">\n",
       "      <th></th>\n",
       "      <th>Observed</th>\n",
       "      <th>Expected</th>\n",
       "    </tr>\n",
       "    <tr>\n",
       "      <th>Gender</th>\n",
       "      <th></th>\n",
       "      <th></th>\n",
       "    </tr>\n",
       "  </thead>\n",
       "  <tbody>\n",
       "    <tr>\n",
       "      <th>Female</th>\n",
       "      <td>2828998.1</td>\n",
       "      <td>3835645.45</td>\n",
       "    </tr>\n",
       "    <tr>\n",
       "      <th>Male</th>\n",
       "      <td>4842292.8</td>\n",
       "      <td>3835645.45</td>\n",
       "    </tr>\n",
       "  </tbody>\n",
       "</table>\n",
       "</div>"
      ],
      "text/plain": [
       "         Observed    Expected\n",
       "Gender                       \n",
       "Female  2828998.1  3835645.45\n",
       "Male    4842292.8  3835645.45"
      ]
     },
     "execution_count": 14,
     "metadata": {},
     "output_type": "execute_result"
    }
   ],
   "source": [
    "population = gender_df['Death_Rate(per M)'].groupby(gender_df['Gender']).sum()\n",
    "pop_stat = pd.DataFrame({ \"Observed\":population, \"Expected\":3835645.45 }) \n",
    "pop_stat"
   ]
  },
  {
   "cell_type": "code",
   "execution_count": 15,
   "id": "6afeb95b-ee66-4132-b944-1b804fd6ab1f",
   "metadata": {},
   "outputs": [
    {
     "data": {
      "text/plain": [
       "3.841458820694124"
      ]
     },
     "execution_count": 15,
     "metadata": {},
     "output_type": "execute_result"
    }
   ],
   "source": [
    "#chi-square 5%\n",
    "#null hypothsis: there is no correlation between gender and heart disease\n",
    "\n",
    "crit_value = stats.chi2.ppf(q=0.95, df=1)\n",
    "crit_value\n",
    "\n"
   ]
  },
  {
   "cell_type": "code",
   "execution_count": 16,
   "id": "ccf8feac-4563-47d0-8d77-4773fea20e4b",
   "metadata": {},
   "outputs": [
    {
     "data": {
      "text/plain": [
       "Power_divergenceResult(statistic=528379.8518249502, pvalue=0.0)"
      ]
     },
     "execution_count": 16,
     "metadata": {},
     "output_type": "execute_result"
    }
   ],
   "source": [
    "stats.chisquare(pop_stat['Observed'],pop_stat['Expected'])"
   ]
  },
  {
   "cell_type": "code",
   "execution_count": 17,
   "id": "3f977e54-a4d5-4f8b-9ce7-50b18f6e60d5",
   "metadata": {},
   "outputs": [],
   "source": [
    "#Conclusion \n",
    "#Since the chi square value of +52000 exceeds the critical value of 3.84, we conclude that the results are statistically significant.\n",
    "#We can conclude the null hypothsis is false"
   ]
  }
 ],
 "metadata": {
  "kernelspec": {
   "display_name": "Python 3 (ipykernel)",
   "language": "python",
   "name": "python3"
  },
  "language_info": {
   "codemirror_mode": {
    "name": "ipython",
    "version": 3
   },
   "file_extension": ".py",
   "mimetype": "text/x-python",
   "name": "python",
   "nbconvert_exporter": "python",
   "pygments_lexer": "ipython3",
   "version": "3.11.7"
  }
 },
 "nbformat": 4,
 "nbformat_minor": 5
}
