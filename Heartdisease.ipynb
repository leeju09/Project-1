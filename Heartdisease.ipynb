{
 "cells": [
  {
   "cell_type": "code",
   "execution_count": null,
   "id": "a0d5121e-61b5-4417-8d06-0a00597f97b3",
   "metadata": {},
   "outputs": [],
   "source": [
    "# Dependencies\n",
    "import pandas as pd\n",
    "from pathlib import Path\n"
   ]
  },
  {
   "cell_type": "code",
   "execution_count": null,
   "id": "c98fd5ec-84e0-4329-b183-4ce20e44aaf8",
   "metadata": {},
   "outputs": [],
   "source": [
    "# Load in Data"
   ]
  },
  {
   "cell_type": "code",
   "execution_count": null,
   "id": "274b281e-ca3a-48be-a231-9eed41be4c3f",
   "metadata": {},
   "outputs": [],
   "source": [
    "# open data"
   ]
  },
  {
   "cell_type": "code",
   "execution_count": null,
   "id": "92da85b6-1af0-40e5-9b5a-6664f197b730",
   "metadata": {},
   "outputs": [],
   "source": [
    "# clean the dataset"
   ]
  },
  {
   "cell_type": "code",
   "execution_count": null,
   "id": "d106f148-3f58-41b9-a4d5-5f0639b4d82c",
   "metadata": {},
   "outputs": [],
   "source": [
    "# name/columns of data\n"
   ]
  },
  {
   "cell_type": "code",
   "execution_count": null,
   "id": "6d348192-a474-4600-becb-d1a2e3316773",
   "metadata": {},
   "outputs": [],
   "source": []
  },
  {
   "cell_type": "code",
   "execution_count": null,
   "id": "f5f6dc73-2649-416b-9ae2-f76cffcfcd7f",
   "metadata": {},
   "outputs": [],
   "source": []
  }
 ],
 "metadata": {
  "kernelspec": {
   "display_name": "Python 3 (ipykernel)",
   "language": "python",
   "name": "python3"
  },
  "language_info": {
   "codemirror_mode": {
    "name": "ipython",
    "version": 3
   },
   "file_extension": ".py",
   "mimetype": "text/x-python",
   "name": "python",
   "nbconvert_exporter": "python",
   "pygments_lexer": "ipython3",
   "version": "3.11.7"
  }
 },
 "nbformat": 4,
 "nbformat_minor": 5
}
